{
 "cells": [
  {
   "cell_type": "code",
   "execution_count": 23,
   "id": "initial_id",
   "metadata": {
    "collapsed": true,
    "ExecuteTime": {
     "end_time": "2025-06-19T13:42:30.030486Z",
     "start_time": "2025-06-19T13:42:30.020382Z"
    }
   },
   "outputs": [],
   "source": [
    "import h5py\n",
    "from pathlib import Path\n",
    "import warnings\n",
    "import numba\n",
    "from tensorflow.keras.preprocessing.sequence import pad_sequences\n",
    "from helper_functions import *\n",
    "from sklearn.model_selection import cross_val_score, StratifiedKFold\n",
    "import matplotlib.pyplot as plt\n",
    "import joblib\n",
    "from scipy.stats import ttest_ind\n",
    "from sktime.classification.kernel_based import RocketClassifier\n",
    "from sktime.classification.dummy import DummyClassifier\n",
    "\n",
    "warnings.filterwarnings('ignore')"
   ]
  },
  {
   "cell_type": "code",
   "execution_count": 19,
   "outputs": [],
   "source": [
    "LEARNER_ZOO = {0: 'SVC_linear', 1: 'SVC_poly', 2: 'SVC_rbf', 3: 'SVC_sigmoid', 4: 'Decision Trees', 5: 'ExtraTrees', 6: 'LogisticRegression', 7: 'PassiveAggressive', 8: 'Perceptron', 9: 'RidgeClassifier', 10: 'SGDClassifier', 11: 'MLP', 12: 'LDA', 13: 'QDA', 14: 'BernoulliNB', 15: 'MultinomialNB', 16: 'ComplementNB', 17: 'GaussianNB', 18: 'KNN', 19: 'NearestCentroid', 20: 'ens.ExtraTrees', 21: 'ens.RandomForest', 22: 'ens.GradientBoosting', 23: 'DummyClassifier'}"
   ],
   "metadata": {
    "collapsed": false,
    "ExecuteTime": {
     "end_time": "2025-06-19T13:41:54.852280Z",
     "start_time": "2025-06-19T13:41:54.830378Z"
    }
   },
   "id": "c4b67656db6e82f1"
  },
  {
   "cell_type": "code",
   "execution_count": 20,
   "outputs": [
    {
     "data": {
      "text/plain": "((6360, 137), (6360, 137), (6360, 137), (6360,))"
     },
     "execution_count": 20,
     "metadata": {},
     "output_type": "execute_result"
    }
   ],
   "source": [
    "data_path = Path.cwd() / 'dataset/LCDB11_ACC_265_noFS_raw_compress.hdf5'\n",
    "with h5py.File(data_path, 'r') as f:\n",
    "    train_raw = np.nanmean(f['accuracy'][...][:,:,:,:,:,0], axis=(2, 3))\n",
    "    valid_raw = np.nanmean(f['accuracy'][...][:,:,:,:,:,1], axis=(2, 3))\n",
    "    test_raw  = np.nanmean(f['accuracy'][...][:,:,:,:,:,2], axis=(2, 3))\n",
    "\n",
    "# flatten\n",
    "train_curves = train_raw.reshape(-1, train_raw.shape[-1])\n",
    "valid_curves = valid_raw.reshape(-1, valid_raw.shape[-1])\n",
    "test_curves  = test_raw.reshape(-1,  test_raw.shape[-1])\n",
    "\n",
    "# labels\n",
    "labels = np.tile(np.arange(24), 265)\n",
    "\n",
    "train_curves.shape, valid_curves.shape, test_curves.shape, labels.shape"
   ],
   "metadata": {
    "collapsed": false,
    "ExecuteTime": {
     "end_time": "2025-06-19T13:42:02.406755Z",
     "start_time": "2025-06-19T13:41:55.444130Z"
    }
   },
   "id": "34d4288ffee28871"
  },
  {
   "cell_type": "code",
   "execution_count": 21,
   "outputs": [
    {
     "data": {
      "text/plain": "(5830, 5830, 5830, (5830,), (5830,))"
     },
     "execution_count": 21,
     "metadata": {},
     "output_type": "execute_result"
    }
   ],
   "source": [
    "group_definitions = {\n",
    "    0: ['Perceptron', 'PassiveAggressive', 'SGDClassifier', 'SVC_linear'],\n",
    "    1: ['Decision Tree', 'ExtraTree', 'MLP'],\n",
    "    2: ['SVC_poly', 'SVC_rbf', 'ens.ExtraTrees', 'ens.RandomForest', 'KNN'],\n",
    "    3: ['MultinomialNB', 'ComplementNB', 'NearestCentroid', 'GaussianNB', 'BernoulliNB'],\n",
    "    4: ['RidgeClassifier', 'LogisticRegression', 'LDA'],\n",
    "    5: ['DummyClassifier', 'SVC_sigmoid', 'QDA', 'ens.GradientBoosting'],\n",
    "}\n",
    "\n",
    "filtered_train_curves, filtered_valid_curves, filtered_test_curves, learner_ids, group_ids = filter_by_group_definitions_together(\n",
    "    train_curves, valid_curves, test_curves, labels, group_definitions, LEARNER_ZOO\n",
    ")\n",
    "\n",
    "len(filtered_train_curves), len(filtered_valid_curves), len(filtered_test_curves), learner_ids.shape, group_ids.shape"
   ],
   "metadata": {
    "collapsed": false,
    "ExecuteTime": {
     "end_time": "2025-06-19T13:42:02.414589Z",
     "start_time": "2025-06-19T13:42:02.410766Z"
    }
   },
   "id": "a9a25407c6825136"
  },
  {
   "cell_type": "code",
   "execution_count": 22,
   "outputs": [
    {
     "data": {
      "text/plain": "((3853, 399),\n (3853, 266),\n (3853, 266),\n (3853, 266),\n (3853, 133),\n (3853, 133),\n (3853, 133),\n (3853,))"
     },
     "execution_count": 22,
     "metadata": {},
     "output_type": "execute_result"
    }
   ],
   "source": [
    "cleaned_train, cleaned_valid, cleaned_test, cleaned_labels = clean_curves_together(\n",
    "    filtered_train_curves, filtered_valid_curves, \n",
    "    filtered_test_curves, group_ids, \n",
    "    min_length=50,\n",
    ")\n",
    "\n",
    "\n",
    "# find max length among all three splits\n",
    "MAX_LEN = max(\n",
    "    max((len(seq) for seq in cleaned_train), default=0),\n",
    "    max((len(seq) for seq in cleaned_valid), default=0),\n",
    "    max((len(seq) for seq in cleaned_test),  default=0)\n",
    ")\n",
    "\n",
    "# pad each split separately\n",
    "padded_train = pad_sequences(cleaned_train, maxlen=MAX_LEN, dtype='float32', padding='post', truncating='post')\n",
    "padded_valid = pad_sequences(cleaned_valid, maxlen=MAX_LEN, dtype='float32', padding='post', truncating='post')\n",
    "padded_test  = pad_sequences(cleaned_test,  maxlen=MAX_LEN, dtype='float32', padding='post', truncating='post')\n",
    "\n",
    "\n",
    "# concatenate all padded curves and labels\n",
    "all_combined = np.concatenate([padded_train, padded_valid, padded_test], axis=1)\n",
    "train_valid = np.concatenate([padded_train, padded_valid], axis=1)\n",
    "train_test = np.concatenate([padded_train, padded_test], axis=1)\n",
    "valid_test = np.concatenate([padded_valid, padded_test], axis=1)\n",
    "\n",
    "all_combined.shape, train_valid.shape, train_test.shape, valid_test.shape, padded_valid.shape, padded_test.shape, padded_train.shape, cleaned_labels.shape"
   ],
   "metadata": {
    "collapsed": false,
    "ExecuteTime": {
     "end_time": "2025-06-19T13:42:02.510359Z",
     "start_time": "2025-06-19T13:42:02.467338Z"
    }
   },
   "id": "55f0004cba69cf79"
  },
  {
   "cell_type": "code",
   "execution_count": 26,
   "outputs": [
    {
     "data": {
      "text/plain": "['scores/experiment-combined-curves//dummy_scores.joblib']"
     },
     "execution_count": 26,
     "metadata": {},
     "output_type": "execute_result"
    }
   ],
   "source": [
    "clf = DummyClassifier(random_state=42)\n",
    "\n",
    "cv = StratifiedKFold(n_splits=5, shuffle=True, random_state=42)\n",
    "\n",
    "scores = cross_val_score(clf, all_combined, cleaned_labels, cv=cv)\n",
    "\n",
    "joblib.dump(clf, f'trained_models/experiment-combined-curves/dummy/dummy_clf.joblib')\n",
    "joblib.dump(scores, f'scores/experiment-combined-curves/dummy/dummy_scores.joblib')"
   ],
   "metadata": {
    "collapsed": false,
    "ExecuteTime": {
     "end_time": "2025-06-19T13:45:25.046498Z",
     "start_time": "2025-06-19T13:45:24.212903Z"
    }
   },
   "id": "df716200d31d05f6"
  },
  {
   "cell_type": "code",
   "execution_count": 9,
   "outputs": [
    {
     "name": "stderr",
     "output_type": "stream",
     "text": [
      "OMP: Info #276: omp_set_nested routine deprecated, please use omp_set_max_active_levels instead.\n"
     ]
    },
    {
     "data": {
      "text/plain": "['scores/experiment-combined-curves/minirocket/minirocket_all_combined_scores.joblib']"
     },
     "execution_count": 9,
     "metadata": {},
     "output_type": "execute_result"
    }
   ],
   "source": [
    "clf = RocketClassifier(rocket_transform='minirocket', random_state=42)\n",
    "\n",
    "cv = StratifiedKFold(n_splits=5, shuffle=True, random_state=42)\n",
    "\n",
    "scores = cross_val_score(clf, all_combined, cleaned_labels, cv=cv)\n",
    "\n",
    "joblib.dump(clf, f'trained_models/experiment-combined-curves/minirocket/minirocket_all_combined_clf.joblib')\n",
    "joblib.dump(scores, f'scores/experiment-combined-curves/minirocket/minirocket_all_combined_scores.joblib')"
   ],
   "metadata": {
    "collapsed": false,
    "ExecuteTime": {
     "end_time": "2025-06-13T17:11:59.545518Z",
     "start_time": "2025-06-13T17:10:15.519071Z"
    }
   },
   "id": "28914d8a7d64bc50"
  },
  {
   "cell_type": "code",
   "execution_count": 10,
   "outputs": [
    {
     "data": {
      "text/plain": "['scores/experiment-combined-curves/minirocket/minirocket_train_valid_scores.joblib']"
     },
     "execution_count": 10,
     "metadata": {},
     "output_type": "execute_result"
    }
   ],
   "source": [
    "clf = RocketClassifier(rocket_transform='minirocket', random_state=42)\n",
    "\n",
    "cv = StratifiedKFold(n_splits=5, shuffle=True, random_state=42)\n",
    "\n",
    "scores = cross_val_score(clf, train_valid, cleaned_labels, cv=cv)\n",
    "\n",
    "joblib.dump(clf, f'trained_models/experiment-combined-curves/minirocket/minirocket_train_valid_clf.joblib')\n",
    "joblib.dump(scores, f'scores/experiment-combined-curves/minirocket/minirocket_train_valid_scores.joblib')"
   ],
   "metadata": {
    "collapsed": false,
    "ExecuteTime": {
     "end_time": "2025-06-13T17:13:20.970412Z",
     "start_time": "2025-06-13T17:11:59.576455Z"
    }
   },
   "id": "f90f12e10b3f6aa9"
  },
  {
   "cell_type": "code",
   "execution_count": 11,
   "outputs": [
    {
     "data": {
      "text/plain": "['scores/experiment-combined-curves/minirocket/minirocket_train_test_scores.joblib']"
     },
     "execution_count": 11,
     "metadata": {},
     "output_type": "execute_result"
    }
   ],
   "source": [
    "clf = RocketClassifier(rocket_transform='minirocket', random_state=42)\n",
    "\n",
    "cv = StratifiedKFold(n_splits=5, shuffle=True, random_state=42)\n",
    "\n",
    "scores = cross_val_score(clf, train_test, cleaned_labels, cv=cv)\n",
    "\n",
    "joblib.dump(clf, f'trained_models/experiment-combined-curves/minirocket/minirocket_train_test_clf.joblib')\n",
    "joblib.dump(scores, f'scores/experiment-combined-curves/minirocket/minirocket_train_test_scores.joblib')"
   ],
   "metadata": {
    "collapsed": false,
    "ExecuteTime": {
     "end_time": "2025-06-13T17:14:44.248976Z",
     "start_time": "2025-06-13T17:13:20.978322Z"
    }
   },
   "id": "c0831597eca2a2d9"
  },
  {
   "cell_type": "code",
   "execution_count": 12,
   "outputs": [
    {
     "data": {
      "text/plain": "['scores/experiment-combined-curves/minirocket/minirocket_valid_test_scores.joblib']"
     },
     "execution_count": 12,
     "metadata": {},
     "output_type": "execute_result"
    }
   ],
   "source": [
    "clf = RocketClassifier(rocket_transform='minirocket', random_state=42)\n",
    "\n",
    "cv = StratifiedKFold(n_splits=5, shuffle=True, random_state=42)\n",
    "\n",
    "scores = cross_val_score(clf, valid_test, cleaned_labels, cv=cv)\n",
    "\n",
    "joblib.dump(clf, f'trained_models/experiment-combined-curves/minirocket/minirocket_valid_test_clf.joblib')\n",
    "joblib.dump(scores, f'scores/experiment-combined-curves/minirocket/minirocket_valid_test_scores.joblib')"
   ],
   "metadata": {
    "collapsed": false,
    "ExecuteTime": {
     "end_time": "2025-06-13T17:16:04.467415Z",
     "start_time": "2025-06-13T17:14:44.376959Z"
    }
   },
   "id": "2bb0098d0eab4da2"
  },
  {
   "cell_type": "code",
   "execution_count": 13,
   "outputs": [
    {
     "data": {
      "text/plain": "['scores/experiment-combined-curves/minirocket/minirocket_only_train_scores.joblib']"
     },
     "execution_count": 13,
     "metadata": {},
     "output_type": "execute_result"
    }
   ],
   "source": [
    "clf = RocketClassifier(rocket_transform='minirocket', random_state=42)\n",
    "\n",
    "cv = StratifiedKFold(n_splits=5, shuffle=True, random_state=42)\n",
    "\n",
    "scores = cross_val_score(clf, padded_train, cleaned_labels, cv=cv)\n",
    "\n",
    "joblib.dump(clf, f'trained_models/experiment-combined-curves/minirocket/minirocket_only_train_clf.joblib')\n",
    "joblib.dump(scores, f'scores/experiment-combined-curves/minirocket/minirocket_only_train_scores.joblib')"
   ],
   "metadata": {
    "collapsed": false,
    "ExecuteTime": {
     "end_time": "2025-06-13T17:17:02.657940Z",
     "start_time": "2025-06-13T17:16:04.467754Z"
    }
   },
   "id": "9dfe8952f707e4c"
  },
  {
   "cell_type": "code",
   "execution_count": 14,
   "outputs": [
    {
     "data": {
      "text/plain": "['scores/experiment-combined-curves/minirocket/minirocket_only_valid_scores.joblib']"
     },
     "execution_count": 14,
     "metadata": {},
     "output_type": "execute_result"
    }
   ],
   "source": [
    "clf = RocketClassifier(rocket_transform='minirocket', random_state=42)\n",
    "\n",
    "cv = StratifiedKFold(n_splits=5, shuffle=True, random_state=42)\n",
    "\n",
    "scores = cross_val_score(clf, padded_valid, cleaned_labels, cv=cv)\n",
    "\n",
    "joblib.dump(clf, f'trained_models/experiment-combined-curves/minirocket/minirocket_only_valid_clf.joblib')\n",
    "joblib.dump(scores, f'scores/experiment-combined-curves/minirocket/minirocket_only_valid_scores.joblib')"
   ],
   "metadata": {
    "collapsed": false,
    "ExecuteTime": {
     "end_time": "2025-06-13T17:18:09.599094Z",
     "start_time": "2025-06-13T17:17:02.720047Z"
    }
   },
   "id": "70591964dcf657d1"
  },
  {
   "cell_type": "code",
   "execution_count": 15,
   "outputs": [
    {
     "data": {
      "text/plain": "['scores/experiment-combined-curves/minirocket/minirocket_only_test_scores.joblib']"
     },
     "execution_count": 15,
     "metadata": {},
     "output_type": "execute_result"
    }
   ],
   "source": [
    "clf = RocketClassifier(rocket_transform='minirocket', random_state=42)\n",
    "\n",
    "cv = StratifiedKFold(n_splits=5, shuffle=True, random_state=42)\n",
    "\n",
    "scores = cross_val_score(clf, padded_test, cleaned_labels, cv=cv)\n",
    "\n",
    "joblib.dump(clf, f'trained_models/experiment-combined-curves/minirocket/minirocket_only_test_clf.joblib')\n",
    "joblib.dump(scores, f'scores/experiment-combined-curves/minirocket/minirocket_only_test_scores.joblib')"
   ],
   "metadata": {
    "collapsed": false,
    "ExecuteTime": {
     "end_time": "2025-06-13T17:19:13.270983Z",
     "start_time": "2025-06-13T17:18:09.610507Z"
    }
   },
   "id": "acf930103e8cd68b"
  },
  {
   "cell_type": "code",
   "execution_count": 16,
   "outputs": [
    {
     "data": {
      "text/plain": "['scores/experiment-combined-curves/minirocket/minirocket_all_combined_scores.joblib']"
     },
     "execution_count": 16,
     "metadata": {},
     "output_type": "execute_result"
    }
   ],
   "source": [
    "clf = RocketClassifier(rocket_transform='minirocket', random_state=42)\n",
    "\n",
    "cv = StratifiedKFold(n_splits=5, shuffle=True, random_state=42)\n",
    "\n",
    "scores = cross_val_score(clf, all_combined, cleaned_labels, cv=cv)\n",
    "\n",
    "joblib.dump(clf, f'trained_models/experiment-combined-curves/minirocket/minirocket_all_combined_clf.joblib')\n",
    "joblib.dump(scores, f'scores/experiment-combined-curves/minirocket/minirocket_all_combined_scores.joblib')"
   ],
   "metadata": {
    "collapsed": false,
    "ExecuteTime": {
     "end_time": "2025-06-13T17:20:43.185787Z",
     "start_time": "2025-06-13T17:19:13.301042Z"
    }
   },
   "id": "c7458add11dc0b33"
  },
  {
   "cell_type": "code",
   "execution_count": 29,
   "outputs": [
    {
     "data": {
      "text/plain": "<Figure size 1000x400 with 1 Axes>",
      "image/png": "[encoded data removed]"
     },
     "metadata": {},
     "output_type": "display_data"
    }
   ],
   "source": [
    "experiment_suffixes = [\n",
    "    \"only_train\",\n",
    "    \"only_valid\",\n",
    "    \"only_test\",\n",
    "    \"train_valid\",\n",
    "    \"train_test\",\n",
    "    \"valid_test\",\n",
    "    \"all_combined\"\n",
    "]\n",
    "\n",
    "label_map = {\n",
    "    \"only_train\": \"Only Train\",\n",
    "    \"only_valid\": \"Only Validation\",\n",
    "    \"only_test\": \"Only Test\",\n",
    "    \"train_valid\": \"Train + Validation\",\n",
    "    \"train_test\": \"Train + Test\",\n",
    "    \"valid_test\": \"Validation + Test\",\n",
    "    \"all_combined\": \"All Combined\"\n",
    "}\n",
    "\n",
    "# color map\n",
    "color_map = {\n",
    "    \"only_train\": \"#c0392b\",      \n",
    "    \"only_valid\": \"#229954\",      \n",
    "    \"only_test\":  \"#d4ac0d\",      \n",
    "    \"train_valid\": \"#5c6bc0\",     \n",
    "    \"train_test\":  \"#d35400\",  \n",
    "    \"valid_test\":  \"#9aaf00\",    \n",
    "    \"all_combined\": \"#7d3c98\"   \n",
    "}\n",
    "\n",
    "score_dir = \"scores/experiment-combined-curves/minirocket\"\n",
    "scores_dict = {}\n",
    "\n",
    "for suffix in experiment_suffixes:\n",
    "    score_path = f\"{score_dir}/minirocket_{suffix}_scores.joblib\"\n",
    "    scores = joblib.load(score_path)\n",
    "    scores_dict[suffix] = scores\n",
    "\n",
    "labels = [label_map[k] for k in experiment_suffixes]\n",
    "means = [scores_dict[k].mean() for k in experiment_suffixes]\n",
    "stds = [scores_dict[k].std() for k in experiment_suffixes]\n",
    "colors = [color_map[k] for k in experiment_suffixes]\n",
    "\n",
    "dummy_scores = joblib.load(\"scores/experiment-combined-curves/dummy/dummy_scores.joblib\")\n",
    "\n",
    "plt.rcParams.update({\n",
    "    'font.size': 12,       \n",
    "    'axes.titlesize': 12,  \n",
    "    'axes.labelsize': 12,  \n",
    "    'xtick.labelsize': 11,\n",
    "    'ytick.labelsize': 11,\n",
    "    'legend.fontsize': 12\n",
    "})\n",
    "\n",
    "plt.figure(figsize=(10, 4))\n",
    "\n",
    "ax = plt.gca()\n",
    "ax.set_facecolor('#EAEAF2')\n",
    "ax.set_axisbelow(True)\n",
    "ax.grid(True, linestyle='--', alpha=0.7, color='white')\n",
    "ax.tick_params(axis='both', length=0)\n",
    "\n",
    "for spine in ax.spines.values():\n",
    "    spine.set_visible(False)\n",
    "    \n",
    "\n",
    "bars = plt.bar(labels, means, yerr=stds, capsize=5, color=colors, edgecolor=\"black\")\n",
    "plt.ylabel(\"Cross-Validation Accuracy\")\n",
    "plt.xticks(rotation=30)\n",
    "plt.ylim(bottom=0.5)\n",
    "plt.grid(axis='y', linestyle='--', alpha=0.7)\n",
    "\n",
    "ax.text(0.05, 0.90, f\"Dummy Baseline: {dummy_scores.mean():.3f} ± {dummy_scores.std():.3f}\", transform=ax.transAxes,\n",
    "        fontsize=11, color='gray', ha='left', va='top',\n",
    "        bbox=dict(facecolor='white', edgecolor='gray', boxstyle='round,pad=0.3'))\n",
    "\n",
    "# add value labels\n",
    "for bar, mean, std in zip(bars, means, stds):\n",
    "    y_pos = mean + std + 0.01  # small padding above the error bar\n",
    "    plt.text(bar.get_x() + bar.get_width() / 2, y_pos,\n",
    "             f\"{mean:.3f}\", ha='center', va='bottom', fontsize=10)\n",
    "\n",
    "plt.tight_layout()\n",
    "plt.savefig(\"plots/combination_scores.png\")\n",
    "plt.show()"
   ],
   "metadata": {
    "collapsed": false,
    "ExecuteTime": {
     "end_time": "2025-06-19T13:46:58.029744Z",
     "start_time": "2025-06-19T13:46:57.912990Z"
    }
   },
   "id": "44355e80468526d0"
  },
  {
   "cell_type": "code",
   "execution_count": 18,
   "outputs": [
    {
     "name": "stdout",
     "output_type": "stream",
     "text": [
      "Comparing against: Only Train\n",
      "\n",
      "Only Train vs Only Validation: p = 0.0233\n",
      "Only Train vs Only Test: p = 0.0198\n",
      "Only Train vs Train + Validation: p = 0.0045\n",
      "Only Train vs Train + Test: p = 0.0021\n",
      "Only Train vs Validation + Test: p = 0.0190\n",
      "Only Train vs All Combined: p = 0.0065\n"
     ]
    }
   ],
   "source": [
    "reference_key = \"only_train\"\n",
    "reference_scores = scores_dict[reference_key]\n",
    "\n",
    "print(f\"Comparing against: {label_map[reference_key]}\\n\")\n",
    "\n",
    "for key in experiment_suffixes:\n",
    "    if key == reference_key:\n",
    "        continue\n",
    "    scores = scores_dict[key]\n",
    "    t_stat, p_val = ttest_ind(reference_scores, scores, equal_var=False)\n",
    "    print(f\"{label_map[reference_key]} vs {label_map[key]}: p = {p_val:.4f}\")"
   ],
   "metadata": {
    "collapsed": false,
    "ExecuteTime": {
     "end_time": "2025-06-13T17:20:43.445083Z",
     "start_time": "2025-06-13T17:20:43.430686Z"
    }
   },
   "id": "cf191ab883173be2"
  }
 ],
 "metadata": {
  "kernelspec": {
   "display_name": "Python 3",
   "language": "python",
   "name": "python3"
  },
  "language_info": {
   "codemirror_mode": {
    "name": "ipython",
    "version": 2
   },
   "file_extension": ".py",
   "mimetype": "text/x-python",
   "name": "python",
   "nbconvert_exporter": "python",
   "pygments_lexer": "ipython2",
   "version": "2.7.6"
  }
 },
 "nbformat": 4,
 "nbformat_minor": 5
}
